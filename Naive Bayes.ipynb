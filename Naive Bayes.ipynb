{
 "cells": [
  {
   "cell_type": "markdown",
   "id": "a7e58327-04f9-42be-87f8-e0b8ca979ba5",
   "metadata": {},
   "source": [
    "# Naive Bayes"
   ]
  },
  {
   "cell_type": "markdown",
   "id": "c77644f5-ee41-4386-bef3-99cbfe1752b1",
   "metadata": {},
   "source": [
    "Task 1: Exploratory Data Analysis (EDA)"
   ]
  },
  {
   "cell_type": "code",
   "execution_count": null,
   "id": "39bd9215-868e-4032-b6a7-c06fa261b227",
   "metadata": {},
   "outputs": [],
   "source": [
    "import warnings\n",
    "warnings.filterwarnings('ignore')\n",
    "\n",
    "import pandas as pd \n",
    "import matplotlib.pyplot as plt \n",
    "import seaborn as sns \n",
    "import numpy as np\n",
    "\n",
    "from sklearn.preprocessing import StandardScaler\n",
    "from sklearn.preprocessing import LabelEncoder\n",
    "from sklearn.model_selection import train_test_split\n",
    "from sklearn.model_selection import GridSearchCV\n",
    "\n",
    "from sklearn import svm\n",
    "from sklearn.metrics import classification_report,accuracy_score,confusion_matrix\n"
   ]
  },
  {
   "cell_type": "code",
   "execution_count": null,
   "id": "6709b9e7-55ee-44e6-8b69-4791ba89ba88",
   "metadata": {},
   "outputs": [],
   "source": [
    "data=pd.read_csv(r\"C:\\Users\\dorkar\\Documents\\conda\\DS\\Naive Bayes\\mushroom.csv\")\n",
    "data.head()"
   ]
  },
  {
   "cell_type": "markdown",
   "id": "91b6548c-d0be-409a-b348-ff32a08e15af",
   "metadata": {},
   "source": [
    "EDA : Exploratory Data Analysis"
   ]
  },
  {
   "cell_type": "code",
   "execution_count": null,
   "id": "54256b04-6d28-4790-98a7-e46b21480da6",
   "metadata": {},
   "outputs": [],
   "source": [
    "data.info()"
   ]
  },
  {
   "cell_type": "code",
   "execution_count": null,
   "id": "fb653e6e-ea19-421f-ad06-d418e3b7de4b",
   "metadata": {},
   "outputs": [],
   "source": [
    "data.columns"
   ]
  },
  {
   "cell_type": "code",
   "execution_count": null,
   "id": "534a902c-a028-4246-a074-012261df1e39",
   "metadata": {},
   "outputs": [],
   "source": [
    "data.describe()"
   ]
  },
  {
   "cell_type": "code",
   "execution_count": null,
   "id": "bbf182b0-158b-4e6b-b4c4-caf46cfb1a27",
   "metadata": {},
   "outputs": [],
   "source": [
    "data.isnull().sum()"
   ]
  },
  {
   "cell_type": "code",
   "execution_count": null,
   "id": "fc58fc9a-15ef-40ec-83b5-3f0c31b0249d",
   "metadata": {},
   "outputs": [],
   "source": [
    "data.duplicated().sum()"
   ]
  },
  {
   "cell_type": "code",
   "execution_count": null,
   "id": "0ab3341e-b656-4527-b2f8-7dd2bbaa5c97",
   "metadata": {},
   "outputs": [],
   "source": [
    "data.drop_duplicates(inplace=True)"
   ]
  },
  {
   "cell_type": "code",
   "execution_count": null,
   "id": "652cfda9-5472-4e59-9add-fb6cefe1bbdb",
   "metadata": {},
   "outputs": [],
   "source": [
    "data.corr()"
   ]
  },
  {
   "cell_type": "code",
   "execution_count": null,
   "id": "20f62232-3211-49dd-8c14-abcd63159023",
   "metadata": {},
   "outputs": [],
   "source": [
    "data.columns"
   ]
  },
  {
   "cell_type": "markdown",
   "id": "abb7f15d-8a8b-43a4-a527-e3bdfd23e94c",
   "metadata": {},
   "source": [
    "Data Visualization"
   ]
  },
  {
   "cell_type": "code",
   "execution_count": null,
   "id": "997916b8-a4e5-4cda-b007-07976dd15b5e",
   "metadata": {},
   "outputs": [],
   "source": [
    "data.hist()"
   ]
  },
  {
   "cell_type": "code",
   "execution_count": null,
   "id": "21df7825-a12a-4366-9bef-3b0e387a4c4e",
   "metadata": {},
   "outputs": [],
   "source": [
    "data.boxplot()"
   ]
  },
  {
   "cell_type": "code",
   "execution_count": null,
   "id": "5e6dc6a9-5c13-4fae-a566-10cc74d12761",
   "metadata": {},
   "outputs": [],
   "source": [
    "# Outlier removal \n",
    "# Detect outliers using IQR method\n",
    "Q1 = data.quantile(0.25)\n",
    "Q3 = data.quantile(0.75)\n",
    "IQR = Q3 - Q1\n",
    "\n",
    "# Define a function to identify outliers\n",
    "def detect_outliers_iqr(data):\n",
    "    outliers = ((data < (Q1 - 1.5 * IQR)) | (data > (Q3 + 1.5 * IQR)))\n",
    "    return outliers\n",
    "\n",
    "# Apply the function to the dataframe\n",
    "outliers = detect_outliers_iqr(data)\n",
    "\n",
    "# Print outliers summary\n",
    "print(outliers.sum())\n",
    "\n",
    "# Remove outliers from the dataframe\n",
    "data = data[~((data < (Q1 - 1.5 * IQR)) | (data > (Q3 + 1.5 * IQR))).any(axis=1)]\n",
    "data"
   ]
  },
  {
   "cell_type": "code",
   "execution_count": null,
   "id": "8d1df74a-ed4f-45ad-857b-c763872c50e6",
   "metadata": {},
   "outputs": [],
   "source": [
    "sns.heatmap(data.corr(),annot=True)"
   ]
  },
  {
   "cell_type": "markdown",
   "id": "79fdb46f-c95c-4a92-8178-355e35d6f606",
   "metadata": {},
   "source": [
    "Data Encoding"
   ]
  },
  {
   "cell_type": "code",
   "execution_count": null,
   "id": "d4692ed9-0659-41c2-8df8-0f4beea8a12d",
   "metadata": {},
   "outputs": [],
   "source": [
    "label=LabelEncoder()\n",
    "for column in data.select_dtypes(include=['object']).columns:\n",
    "    data[column] = label.fit_transform(data[column])\n",
    "data"
   ]
  },
  {
   "cell_type": "code",
   "execution_count": null,
   "id": "213d02c3-dd44-478c-9510-b62d3ebfdf98",
   "metadata": {},
   "outputs": [],
   "source": [
    "plt.figure(figsize=(12, 6))\n",
    "sns.countplot(x='class', data=data)\n",
    "plt.title('Class Distribution')\n",
    "plt.show()"
   ]
  },
  {
   "cell_type": "code",
   "execution_count": null,
   "id": "8719600f-e738-4fed-b622-cea6eaeb6b6a",
   "metadata": {},
   "outputs": [],
   "source": [
    "plt.figure(figsize=(12, 6))\n",
    "sns.countplot(x='class', data=data)\n",
    "plt.title('Class Distribution')\n",
    "plt.show()"
   ]
  },
  {
   "cell_type": "code",
   "execution_count": null,
   "id": "d751d3e3-f62e-4e72-881b-98178c894f91",
   "metadata": {},
   "outputs": [],
   "source": [
    "plt.hist(data)\n",
    "plt.show()"
   ]
  },
  {
   "cell_type": "code",
   "execution_count": null,
   "id": "22aac6ab-194a-4bc6-8567-5ba7b1c6de01",
   "metadata": {},
   "outputs": [],
   "source": [
    "plt.boxplot(data)\n",
    "plt.show()"
   ]
  },
  {
   "cell_type": "code",
   "execution_count": null,
   "id": "fcf2671e-9b28-4540-94ff-7cd4fd2fe900",
   "metadata": {},
   "outputs": [],
   "source": [
    "sns.pairplot(data)"
   ]
  },
  {
   "cell_type": "code",
   "execution_count": null,
   "id": "4158c7c6-b16b-492b-9045-12ed797f7fbd",
   "metadata": {},
   "outputs": [],
   "source": [
    "data['stalk_height']=data['stalk_height'].astype(int)\n",
    "data['cap_diameter']=data['cap_diameter'].astype(int)\n",
    "data"
   ]
  },
  {
   "cell_type": "code",
   "execution_count": null,
   "id": "d72b3991-9866-40d9-bab5-6819355fa862",
   "metadata": {},
   "outputs": [],
   "source": [
    "data.columns"
   ]
  },
  {
   "cell_type": "markdown",
   "id": "6a7b8501-fbe5-4f6d-bd84-257822ac77d4",
   "metadata": {},
   "source": [
    "Split data"
   ]
  },
  {
   "cell_type": "code",
   "execution_count": null,
   "id": "de12b2ca-3406-473d-86e7-d49047852874",
   "metadata": {},
   "outputs": [],
   "source": [
    "#spliting the data\n",
    "x=data.drop(['class'],axis=1)\n",
    "y=data['class']\n",
    "x,y"
   ]
  },
  {
   "cell_type": "code",
   "execution_count": null,
   "id": "ee341a39-048a-4392-b700-eb9fda3ef875",
   "metadata": {},
   "outputs": [],
   "source": [
    "x_train,x_test,y_train,y_test=train_test_split(x,y,train_size=0.8,random_state=42)"
   ]
  },
  {
   "cell_type": "code",
   "execution_count": null,
   "id": "c61bd17f-aae4-4dc7-8dee-efe6017f9623",
   "metadata": {},
   "outputs": [],
   "source": [
    "scaler = StandardScaler()\n",
    "x_train = scaler.fit_transform(x_train)\n",
    "x_test = scaler.transform(x_test)\n",
    "x_train,x_test"
   ]
  },
  {
   "cell_type": "code",
   "execution_count": null,
   "id": "d7b8a2f7-4ab6-4343-8294-6c967401f721",
   "metadata": {},
   "outputs": [],
   "source": [
    "svm_model=svm.SVC(kernel='linear')"
   ]
  },
  {
   "cell_type": "code",
   "execution_count": null,
   "id": "dec576c6-b9e6-47d6-820d-1d80851d8ac3",
   "metadata": {},
   "outputs": [],
   "source": [
    "svm_model.fit(x_train,y_train)"
   ]
  },
  {
   "cell_type": "code",
   "execution_count": null,
   "id": "707dd05c-7fb2-47c2-80fa-7a3fd8888325",
   "metadata": {},
   "outputs": [],
   "source": [
    "y_pred=svm_model.predict(x_test)\n",
    "y_pred"
   ]
  },
  {
   "cell_type": "code",
   "execution_count": null,
   "id": "88255093-6b0e-4e62-8ca5-1d5b55a2bdaa",
   "metadata": {},
   "outputs": [],
   "source": [
    "print(classification_report(y_pred,y_test))"
   ]
  },
  {
   "cell_type": "code",
   "execution_count": null,
   "id": "57b1ab64-dd30-411c-9128-660cea14504c",
   "metadata": {},
   "outputs": [],
   "source": [
    "print(accuracy_score(y_pred,y_test))"
   ]
  },
  {
   "cell_type": "code",
   "execution_count": null,
   "id": "0a4b4309-fd0f-44a2-91b0-0fdbee174e45",
   "metadata": {},
   "outputs": [],
   "source": [
    "cm=confusion_matrix(y_pred,y_test)\n",
    "cm"
   ]
  },
  {
   "cell_type": "markdown",
   "id": "fb6dd622-357b-4b0f-a508-a1ac165c16a6",
   "metadata": {},
   "source": [
    "Task 5: Visualization of SVM Results"
   ]
  },
  {
   "cell_type": "code",
   "execution_count": null,
   "id": "7380f0cd-b6d8-409f-9b79-6680e80ca174",
   "metadata": {},
   "outputs": [],
   "source": [
    "plt.figure(figsize=(8, 6))\n",
    "sns.heatmap(cm, annot=True, fmt=\"d\", cmap=\"Blues\", cbar=False)\n",
    "plt.xlabel('Predicted Labels')\n",
    "plt.ylabel('True Labels')\n",
    "plt.title('Confusion Matrix')\n",
    "plt.show()"
   ]
  },
  {
   "cell_type": "markdown",
   "id": "1f1adbf0-7204-4b1d-80f7-fa64cd0f6349",
   "metadata": {},
   "source": [
    "Hyper Parameter tunning"
   ]
  },
  {
   "cell_type": "code",
   "execution_count": null,
   "id": "37e215a5-7200-4b87-93f2-7a086940653e",
   "metadata": {},
   "outputs": [],
   "source": [
    "# SVM hyper parameter\n",
    "param_grid = {\n",
    "    'C': [0.1, 1, 10, 100],\n",
    "    'kernel': ['linear', 'poly', 'rbf', 'sigmoid'],\n",
    "    'gamma': ['scale', 'auto']\n",
    "}\n",
    "# Instantiate the GridSearchCV object\n",
    "clf= GridSearchCV(svm_model, param_grid=param_grid, cv=5, scoring='accuracy')\n",
    "# Fit the model to the training data\n",
    "clf.fit(x_train, y_train)"
   ]
  },
  {
   "cell_type": "code",
   "execution_count": null,
   "id": "e7912185-2349-4ff2-9e7f-879b9b3ea970",
   "metadata": {},
   "outputs": [],
   "source": [
    "y_pred=clf.predict(x_test)"
   ]
  },
  {
   "cell_type": "code",
   "execution_count": null,
   "id": "7d4a6517-c534-466a-82ad-08c4e03e32e4",
   "metadata": {},
   "outputs": [],
   "source": [
    "print(classification(y_pred,y_test))"
   ]
  },
  {
   "cell_type": "code",
   "execution_count": null,
   "id": "39bb94fc-8f3f-4491-9c20-8c23cc3326d3",
   "metadata": {},
   "outputs": [],
   "source": [
    "print(accuracy(y_pred,y_test))"
   ]
  },
  {
   "cell_type": "code",
   "execution_count": null,
   "id": "9b39ff47-cb0e-402d-9f31-04eaf725dbe9",
   "metadata": {},
   "outputs": [],
   "source": []
  },
  {
   "cell_type": "code",
   "execution_count": null,
   "id": "0b6943c5-5bbb-4460-87a9-c4019e9812e1",
   "metadata": {},
   "outputs": [],
   "source": [
    "# Experiment with different SVM hyperparameters\n",
    "# Example: Experimenting with different kernel types\n",
    "from sklearn.svm import SVC\n",
    "kernels = ['linear', 'poly', 'rbf']\n",
    "for kernel in kernels:\n",
    "    svm_model = SVC(kernel=kernel)\n",
    "    svm_model.fit(x_train, y_train)\n",
    "    y_pred = svm_model.predict(x_test)\n",
    "    accuracy = accuracy_score(y_test, y_pred)\n",
    "    print(\"Kernel:\", kernel)\n",
    "    print(\"Accuracy:\", accuracy)\n",
    "    print(classification_report(y_test, y_pred))\n",
    "    print(\"Confusion Matrix:\")\n",
    "    print(confusion_matrix(y_test, y_pred))"
   ]
  },
  {
   "cell_type": "code",
   "execution_count": null,
   "id": "b71af988-4ea4-423c-98d7-3a54dfe0afb3",
   "metadata": {},
   "outputs": [],
   "source": []
  },
  {
   "cell_type": "code",
   "execution_count": null,
   "id": "c9967024-a9b8-4127-a156-057a99dfd57b",
   "metadata": {},
   "outputs": [],
   "source": []
  },
  {
   "cell_type": "code",
   "execution_count": null,
   "id": "c2379166-fa10-43b5-8bf3-398d4ce96e71",
   "metadata": {},
   "outputs": [],
   "source": []
  }
 ],
 "metadata": {
  "kernelspec": {
   "display_name": "Python 3 (ipykernel)",
   "language": "python",
   "name": "python3"
  },
  "language_info": {
   "codemirror_mode": {
    "name": "ipython",
    "version": 3
   },
   "file_extension": ".py",
   "mimetype": "text/x-python",
   "name": "python",
   "nbconvert_exporter": "python",
   "pygments_lexer": "ipython3",
   "version": "3.12.3"
  }
 },
 "nbformat": 4,
 "nbformat_minor": 5
}
